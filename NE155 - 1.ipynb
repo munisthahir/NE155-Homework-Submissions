{
 "cells": [
  {
   "cell_type": "markdown",
   "metadata": {},
   "source": [
    "Problem 1a"
   ]
  },
  {
   "cell_type": "raw",
   "metadata": {},
   "source": [
    "Shared memory allows for several operators to access the same memory. This produces limitations in that all operators essentially compete for memory, so writing a program is subject to the complexity/processing requirements of other programmers on your bus."
   ]
  },
  {
   "cell_type": "markdown",
   "metadata": {},
   "source": [
    "Problem 1b"
   ]
  },
  {
   "cell_type": "raw",
   "metadata": {},
   "source": [
    "Distributed memory requires a network to connect many individual processors. This limits programmers to the speed/latency of the network they are on."
   ]
  },
  {
   "cell_type": "markdown",
   "metadata": {},
   "source": [
    "Problem 2a"
   ]
  },
  {
   "cell_type": "raw",
   "metadata": {},
   "source": [
    "The top 3 supercomputers are Summit, Sierra, and Sunway TaihuLight (according to wikipedia's top 500 page.\n",
    "\n",
    "Summit uses a combination of multicore processors accelerated with GPU's.\n",
    "Sierra uses a combination of CPUs in conjunction with GPUs.\n",
    "Sunway TaihuLight uses manycore processors exclusively. \n",
    "\n",
    "Among the top 10 supercomputers, 6 are GPU-accelerated and 4 are comprised of manycore processors."
   ]
  },
  {
   "cell_type": "markdown",
   "metadata": {},
   "source": [
    "Problem 2b"
   ]
  },
  {
   "cell_type": "raw",
   "metadata": {},
   "source": [
    "GPU's rapidly process data to render it as suitable for any display device. They are superior to CPUs in parallel computing, large memory, but a lower clock speed than CPUs. They can be stacked to allow for higher levels of computing.\n",
    "\n",
    "Manycore processors are slower, but have lower power consumption by excelling at parallel processing.\n",
    "\n",
    "CPU's are a capable of stacking to create higher levels of memory, with an average computing clock speed."
   ]
  },
  {
   "cell_type": "markdown",
   "metadata": {},
   "source": [
    "Problem 2c"
   ]
  },
  {
   "cell_type": "raw",
   "metadata": {},
   "source": [
    "For a GPU, I'd try to parallelize calculations with the NTE (i.e. calculate changes in terms separately, rather than the total change in value).\n",
    "\n",
    "For a CPU, I'd simply try to process changes in flux value over time.\n",
    "\n",
    "For a manycore processor, I'd try to process changes in the entire equation over time, saving me time on the coding side but setting up a few lines of code and allowing the CPU to process it."
   ]
  },
  {
   "cell_type": "markdown",
   "metadata": {},
   "source": [
    "Problem 3a"
   ]
  },
  {
   "cell_type": "raw",
   "metadata": {},
   "source": [
    "x0 = [.5, .9, -.2, .05, .5]\n",
    "x1 = [.55, .85, -.3, .1, .6]\n",
    "\n",
    "x = x1 - x0 = [.05, -.05, -.1, .05, .1]\n",
    "\n",
    "L1 is simply the sum of the absolute value of every index in the vector.\n",
    "\n",
    "L1X0 = .5 + .9 + .2 + .05 + .5 = 2.15\n",
    "L1X1 = .55 + .85 + .3 + .1 + .6 = 2.4\n",
    "L1X = .05 + .05 + .1 + .05 + .1 = .26 (This is the true value)\n",
    "L1X1 - L1X0 = .25 (This is the measured value)\n",
    "\n",
    "L1Absolute Error = true value - measured value = .01\n",
    "L1Rel = (Absolute Error/True Value)  = .01/.26 = .038\n",
    "\n",
    "**** PART 2 ****\n",
    "x0 = [.54, .88, -.4, .09, .61)\n",
    "x1 = [.55, .85, -.3, .1, .6]\n",
    "\n",
    "x = x1 - x0 = [.01, -.03, .1, .01, -.01]\n",
    "\n",
    "L1X0 = .54 + .88 + .4 + .09 + .61 = 2.52\n",
    "L1X1 = .55 + .85 + .3 + .1 + .6 = 2.4\n",
    "L1X = .01 + .03 + .1 + .01 + .01 = .16 (This is the true value)\n",
    "L1X1 - L1X0 = .12 (This is the measured value)\n",
    "\n",
    "L1Absolute Error = true value - measured value = .04\n",
    "L1Rel = (Absolute Error/True Value)  = .04/.16 = .25"
   ]
  },
  {
   "cell_type": "markdown",
   "metadata": {},
   "source": [
    "Problem 3b"
   ]
  },
  {
   "cell_type": "raw",
   "metadata": {},
   "source": [
    "x0 = [.5, .9, -.2, .05, .5]\n",
    "x1 = [.55, .85, -.3, .1, .6]\n",
    "\n",
    "x = x1 - x0 = [.05, -.05, -.1, .05, .1]\n",
    "\n",
    "L2 is the square root of the sum of every index squared\n",
    "\n",
    "L2X0 = sqrt(.25 + .81 + .04 + .0025 + .25) = sqrt(1.3525) = 1.16297\n",
    "L2X1 = sqrt(.3025 + .7225 + .09 + .01 + .36) = sqrt(1.485) = 1.21860\n",
    "L2X = sqrt(.0025 + .0025 + .01 + .0025 + .01) = sqrt(.0275) = .16583 (This is the true value)\n",
    "L2X1 - L2X0 = .05563 (This is the measured value)\n",
    "\n",
    "L2Absolute Error = true value - measured value = .1102\n",
    "L2Rel = (Absolute Error/True Value)  = .1102/.16583 = .6645\n",
    "\n",
    "**** PART 2 ****\n",
    "x0 = [.54, .88, -.4, .09, .61)\n",
    "x1 = [.55, .85, -.3, .1, .6]\n",
    "\n",
    "x = x1 - x0 = [.01, -.03, .1, .01, -.01]\n",
    "\n",
    "L2X0 = sqrt(.2916 + .7744 + .16 + .0081 + .3721) = sqrt(1.6062) = 1.26736\n",
    "L2X1 = sqrt(.3025 + .7225 + .09 + .01 + .36) = sqrt(1.485) = 1.21860\n",
    "L2X = sqrt(.0001 + .0025 + .01 + .0025 + .01) = sqrt(.0251) = .15843 This is the true value)\n",
    "L2X1 - L2X0 = .04876 (This is the measured value)\n",
    "\n",
    "L2Absolute Error = true value - measured value = .10967\n",
    "L2Rel = (Absolute Error/True Value)  = .10967/.15843 = .69223"
   ]
  },
  {
   "cell_type": "markdown",
   "metadata": {},
   "source": [
    "Problem 3c"
   ]
  },
  {
   "cell_type": "raw",
   "metadata": {},
   "source": [
    "x0 = [.5, .9, -.2, .05, .5]\n",
    "x1 = [.55, .85, -.3, .1, .6]\n",
    "\n",
    "x = x1 - x0 = [.05, -.05, -.1, .05, .1]\n",
    "\n",
    "Linf is the highest value within the vector\n",
    "\n",
    "LinfX0 = .9\n",
    "LinfX1 = .85\n",
    "LinfX = .1 (This is the true value)\n",
    "LinfX1 - LinfX0 = .05 (This is the measured value)\n",
    "\n",
    "LinfAbsolute Error = true value - measured value = .05\n",
    "LinfRel = (Absolute Error/True Value)  = .05/.1 = .5\n",
    "\n",
    "**** PART 2 ****\n",
    "x0 = [.54, .88, -.4, .09, .61)\n",
    "x1 = [.55, .85, -.3, .1, .6]\n",
    "\n",
    "x = x1 - x0 = [.01, -.03, .1, .01, -.01]\n",
    "\n",
    "LinfX0 = .88\n",
    "LinfX1 = .85\n",
    "LinfX = .1 (This is the true value)\n",
    "LinfX1 - LinfX0 = .03 (This is the measured value)\n",
    "\n",
    "LinfAbsolute Error = true value - measured value = .07\n",
    "LinfRel = (Absolute Error/True Value)  = .07/.1 = .7"
   ]
  },
  {
   "cell_type": "markdown",
   "metadata": {},
   "source": [
    "Problem 3"
   ]
  },
  {
   "cell_type": "raw",
   "metadata": {},
   "source": [
    "The l2 norm changes the least as individual values change, which would make it the most consistent in determining convergence.\n",
    "\n",
    "The l3 norm would converge the fastest."
   ]
  },
  {
   "cell_type": "markdown",
   "metadata": {},
   "source": [
    "Problem 4a"
   ]
  },
  {
   "cell_type": "code",
   "execution_count": 10,
   "metadata": {},
   "outputs": [
    {
     "data": {
      "image/png": "[encoded data removed]",
      "text/plain": [
       "<matplotlib.figure.Figure at 0x182fab0c198>"
      ]
     },
     "metadata": {},
     "output_type": "display_data"
    },
    {
     "name": "stdout",
     "output_type": "stream",
     "text": [
      "As the number of mesh cells increases, the relative error decreases.\n"
     ]
    }
   ],
   "source": [
    "import matplotlib.pyplot as plot\n",
    "import math as m\n",
    "import numpy as np\n",
    "\n",
    "x = [8, 16, 80, 160, 800] #Number of Mesh Cells\n",
    "y = [8.45670187e-3, 2.29287456e-3, 9.85314852e-5, 2.52112498e-5, 9.87599273e-7]\n",
    "plot.loglog(x,y)\n",
    "plot.xlabel('Number of Mesh Cells')\n",
    "plot.ylabel('Relative Error')\n",
    "plot.show()\n",
    "print('As the number of mesh cells increases, the relative error decreases.')"
   ]
  },
  {
   "cell_type": "markdown",
   "metadata": {},
   "source": [
    "Problem 4b"
   ]
  },
  {
   "cell_type": "code",
   "execution_count": 9,
   "metadata": {},
   "outputs": [
    {
     "data": {
      "image/png": "[encoded data removed]",
      "text/plain": [
       "<matplotlib.figure.Figure at 0x182faab1518>"
      ]
     },
     "metadata": {},
     "output_type": "display_data"
    },
    {
     "name": "stdout",
     "output_type": "stream",
     "text": [
      "As the mesh spacing increases, the relative error increases.\n"
     ]
    }
   ],
   "source": [
    "import matplotlib.pyplot as plot\n",
    "import math as m\n",
    "import numpy as np\n",
    "\n",
    "x = [1, .5, .1, .05, .01] #mesh spacing\n",
    "y = [8.45670187e-3, 2.29287456e-3, 9.85314852e-5, 2.52112498e-5, 9.87599273e-7]\n",
    "plot.loglog(x,y)\n",
    "plot.xlabel('Mesh Spacing [cm]')\n",
    "plot.ylabel('Relative Error')\n",
    "plot.show()\n",
    "print('As the mesh spacing increases, the relative error increases.')"
   ]
  },
  {
   "cell_type": "markdown",
   "metadata": {},
   "source": [
    "Problem 5"
   ]
  },
  {
   "cell_type": "raw",
   "metadata": {},
   "source": [
    "1) Particles are point objects, described by their location and velocity at a given time. This allows us to ignore the rotation and quantum effects.\n",
    "\n",
    "2) Neutral particles travel in straight lines between collisions. This allows us to reduce particle motion to a monomial vector-valued function.\n",
    "\n",
    "3) Particle-Particle collisions are negligible, making the transport equation linear.\n",
    "\n",
    "4) Material properties are isotropic, so all collisions are uniform across a material.\n",
    "\n",
    "5) Material Composition is time-independent, so all collisions are uniform throughout a period of time.\n",
    "\n",
    "6) Quantities are expected values, so we don't account for fluctuations for very low densities."
   ]
  },
  {
   "cell_type": "markdown",
   "metadata": {},
   "source": [
    "Problem 6"
   ]
  },
  {
   "cell_type": "raw",
   "metadata": {},
   "source": [
    "A) This term represents the time rate of change of the number of particles in our six-dimensional cube. \n",
    "\n",
    "B) This term represents the rate of particles exiting our six-dimensional cube.\n",
    "\n",
    "C) This term represents the total rate of particle interactions in our six-dimensional cube.\n",
    "\n",
    "D) This term represents the rate of particles introduced to the cube via an external source.\n",
    "\n",
    "E) This term represents the rate of inscattering.\n",
    "\n",
    "F) This term represents the rate of neutrons produced by fission."
   ]
  },
  {
   "cell_type": "markdown",
   "metadata": {},
   "source": [
    "Problem 7a"
   ]
  },
  {
   "cell_type": "raw",
   "metadata": {},
   "source": [
    "One assumption is that the angular dependence of the flux is unimportant, so the direction component of the TE can be discarded.\n",
    "\n",
    "Another assumption is that external source is isotropic."
   ]
  },
  {
   "cell_type": "markdown",
   "metadata": {},
   "source": [
    "Problem 7b"
   ]
  },
  {
   "cell_type": "raw",
   "metadata": {},
   "source": [
    "The solution is not valid near a void, a boundary, a source, or a strong absorber. A void would produce a sharp concentration gradient against any material, which would invalidate the Fick's law assumption. A boundary would follow a similar invalidation in that the gradient of concentration between two materials would be too large. A source can be anisotropic, so this solution's assumption would be invalidated. Lastly, a strong absorber would provide an angular dependency on the flux."
   ]
  },
  {
   "cell_type": "markdown",
   "metadata": {},
   "source": [
    "Problem 7c"
   ]
  },
  {
   "cell_type": "raw",
   "metadata": {},
   "source": [
    "-del*(D)*(flux) + (total_cross_section * Flux) = 0\n",
    "where D is 1/(3*Transport_cross_section)"
   ]
  },
  {
   "cell_type": "markdown",
   "metadata": {},
   "source": [
    "Done!"
   ]
  }
 ],
 "metadata": {
  "kernelspec": {
   "display_name": "Python 3",
   "language": "python",
   "name": "python3"
  },
  "language_info": {
   "codemirror_mode": {
    "name": "ipython",
    "version": 3
   },
   "file_extension": ".py",
   "mimetype": "text/x-python",
   "name": "python",
   "nbconvert_exporter": "python",
   "pygments_lexer": "ipython3",
   "version": "3.6.4"
  }
 },
 "nbformat": 4,
 "nbformat_minor": 2
}
